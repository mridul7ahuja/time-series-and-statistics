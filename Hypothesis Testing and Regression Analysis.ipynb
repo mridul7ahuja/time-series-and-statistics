{
 "cells": [
  {
   "cell_type": "code",
   "execution_count": 3,
   "metadata": {},
   "outputs": [],
   "source": [
    "import pandas as pd\n",
    "import math\n",
    "from scipy import stats\n",
    "import scipy\n",
    "import statistics\n",
    "import matplotlib.pyplot as plt\n",
    "import numpy as np\n",
    "from scipy.stats import chi2, norm\n",
    "from sklearn import datasets, linear_model\n",
    "from sklearn.metrics import mean_squared_error, r2_score"
   ]
  },
  {
   "cell_type": "code",
   "execution_count": 4,
   "metadata": {},
   "outputs": [
    {
     "name": "stdout",
     "output_type": "stream",
     "text": [
      "      Unnamed: 0         x\n",
      "0              1  0.074187\n",
      "1              2  0.058624\n",
      "2              3  0.011584\n",
      "3              4  0.007977\n",
      "4              5  0.208048\n",
      "...          ...       ...\n",
      "4995        4996  0.052144\n",
      "4996        4997  0.066646\n",
      "4997        4998  0.029344\n",
      "4998        4999  0.002050\n",
      "4999        5000  0.028198\n",
      "\n",
      "[5000 rows x 2 columns]\n"
     ]
    }
   ],
   "source": [
    "df = pd.read_csv (r\"-\")\n",
    "print (df)"
   ]
  },
  {
   "cell_type": "code",
   "execution_count": 5,
   "metadata": {},
   "outputs": [],
   "source": [
    "x = (df.loc[:,\"x\"])"
   ]
  },
  {
   "cell_type": "code",
   "execution_count": 6,
   "metadata": {},
   "outputs": [
    {
     "name": "stdout",
     "output_type": "stream",
     "text": [
      "414.9941609345372\n",
      "Mean = 0.08299883218690744\n"
     ]
    }
   ],
   "source": [
    "xarr = []\n",
    "for num in x:\n",
    "    xarr.append(num)\n",
    "mean = 0\n",
    "for num in xarr:\n",
    "    mean += num\n",
    "print(mean)\n",
    "mean = mean/5000\n",
    "print(\"Mean = \" + str(mean))"
   ]
  },
  {
   "cell_type": "code",
   "execution_count": 7,
   "metadata": {},
   "outputs": [
    {
     "name": "stdout",
     "output_type": "stream",
     "text": [
      "Sample Standard Deviation = 0.082455843211671\n"
     ]
    }
   ],
   "source": [
    "stddev = 0\n",
    "for num in xarr:\n",
    "    stddev += (num - mean)*(num - mean)\n",
    "stddev = stddev/4999\n",
    "stddev = math.sqrt(stddev)\n",
    "print(\"Sample Standard Deviation = \" + str(stddev))"
   ]
  },
  {
   "cell_type": "code",
   "execution_count": 8,
   "metadata": {},
   "outputs": [
    {
     "name": "stdout",
     "output_type": "stream",
     "text": [
      "Critical Value:  1.9608899780304625\n",
      "Test Statistic assuming Hypothesis to be true:  6.859463514812385\n",
      "Thus, Null Hypothesis is Rejected\n"
     ]
    }
   ],
   "source": [
    "#For Question-1 we take value for checking as 0.075\n",
    "z_value = 1/(stats.norm.cdf((0.05/2.0)))\n",
    "test_stat = (mean - 0.075)/stddev*(math.sqrt(5000))\n",
    "print(\"Critical Value: \", z_value)\n",
    "print(\"Test Statistic assuming Hypothesis to be true: \", test_stat)\n",
    "if(test_stat>z_value or test_stat<-z_value):\n",
    "    print(\"Thus, Null Hypothesis is Rejected\")\n",
    "else:\n",
    "    print(\"Thus, Null Hypothesis is not rejected\")"
   ]
  },
  {
   "cell_type": "code",
   "execution_count": 9,
   "metadata": {},
   "outputs": [
    {
     "name": "stdout",
     "output_type": "stream",
     "text": [
      "Lower Critical Value:  4804.924332159057\n",
      "Upper Critical Value:  5196.864170605186\n",
      "Test statistic assuming Hypothesis to be true:  5072.840512337105\n",
      "Thus, Null Hypothesis is not Rejected\n"
     ]
    }
   ],
   "source": [
    "#For Question-2 we take variance value for checking as 0.0067\n",
    "test_stat = (4999)*stddev**2/0.0067\n",
    "low = chi2.ppf(0.05 / 2, 4999)\n",
    "hi = chi2.ppf(1 - (0.05 / 2), 4999)\n",
    "print(\"Lower Critical Value: \", low)\n",
    "print(\"Upper Critical Value: \", hi)\n",
    "print(\"Test statistic assuming Hypothesis to be true: \", test_stat)\n",
    "if(test_stat<low or test_stat>hi):\n",
    "    print(\"Thus, Null Hypothesis is Rejected\")\n",
    "else:\n",
    "    print(\"Thus, Null Hypothesis is not Rejected\")"
   ]
  },
  {
   "cell_type": "code",
   "execution_count": 10,
   "metadata": {},
   "outputs": [
    {
     "name": "stdout",
     "output_type": "stream",
     "text": [
      "The value of our test statistic D^2:  2.5458921978489455\n",
      "Critical Value at 0.05 significance:  24.883904383335626\n",
      "Thus, Null hypothesis that the data follows exponential distribution is accepted\n"
     ]
    }
   ],
   "source": [
    "#For Question-3 we perform the chi-square goodness of fit test\n",
    "n=len(x)\n",
    "dists = ['norm', 'expon', 'uniform', 'chi', 'lognorm', 'gamma', 'chi2' ]\n",
    "pbins = np.linspace(0,100,40)\n",
    "pcuts = np.percentile(x, pbins)\n",
    "obsFreq, bins = (np.histogram(x, bins=pcuts))\n",
    "cumObsFreq = np.cumsum(obsFreq)\n",
    "\n",
    "params = {}\n",
    "curmin = 1e10\n",
    "ans = \"\"\n",
    "for curdist in dists:\n",
    "    dist = getattr(stats, curdist)\n",
    "    param = dist.fit(x)\n",
    "    params[curdist] = param\n",
    "    CDFfit = dist.cdf(pcuts, *param)\n",
    "    expFreq = []\n",
    "    for bin in range(len(pbins)-1):\n",
    "        expFreq.append(CDFfit[bin+1] - CDFfit[bin])\n",
    "    expFreq = np.array(expFreq) * n\n",
    "    cumExpFreq = np.cumsum(expFreq)\n",
    "    D_2 = sum (((cumExpFreq - cumObsFreq) ** 2) / cumObsFreq)\n",
    "    if(curmin>D_2):\n",
    "        curmin = D_2\n",
    "        ans = curdist\n",
    "        ansparam = param\n",
    "\n",
    "print(\"The value of our test statistic D^2: \", curmin)\n",
    "print(\"Critical Value at 0.05 significance: \", chi2.ppf(0.05, 38))\n",
    "if(ans==\"expon\"):\n",
    "    print(\"Thus, Null hypothesis that the data follows exponential distribution is accepted\")\n",
    "else:\n",
    "    print(\"Null hypothesis is rejected\")"
   ]
  },
  {
   "cell_type": "code",
   "execution_count": 11,
   "metadata": {},
   "outputs": [],
   "source": [
    "#We also perform the Kolmogorov-Smirnov test to check if it is indeed exponential\n",
    "class Distribution(object):\n",
    "    \n",
    "    def __init__(self,dist_names_list = []):\n",
    "        self.dist_names = ['norm','lognorm','expon', 'chi2', 'gamma']\n",
    "        self.dist_results = []\n",
    "        self.params = {}\n",
    "        \n",
    "        self.DistributionName = \"\"\n",
    "        self.PValue = 0\n",
    "        self.Param = None\n",
    "        \n",
    "        self.isFitted = False\n",
    "        \n",
    "        \n",
    "    def Fit(self, y):\n",
    "        self.dist_results = []\n",
    "        self.params = {}\n",
    "        for dist_name in self.dist_names:\n",
    "            dist = getattr(scipy.stats, dist_name)\n",
    "            param = dist.fit(y)\n",
    "            \n",
    "            self.params[dist_name] = param\n",
    "            #Applying the Kolmogorov-Smirnov test\n",
    "            D, p = scipy.stats.kstest(y, dist_name, args=param);\n",
    "            self.dist_results.append((dist_name,p))\n",
    "        #select the best fitted distribution\n",
    "        sel_dist,p = (max(self.dist_results,key=lambda item:item[1]))\n",
    "        #store the name of the best fit and its p value\n",
    "        self.DistributionName = sel_dist\n",
    "        self.PValue = p\n",
    "        \n",
    "        self.isFitted = True\n",
    "        return self.DistributionName,self.PValue"
   ]
  },
  {
   "cell_type": "code",
   "execution_count": 12,
   "metadata": {},
   "outputs": [
    {
     "name": "stdout",
     "output_type": "stream",
     "text": [
      "Null hypothesis that the data follows exponential distribution is accepted\n"
     ]
    }
   ],
   "source": [
    "r = df['x']\n",
    "dst = Distribution()\n",
    "dst.Fit(r)\n",
    "if(dst.Fit(r)[0]==\"expon\"):\n",
    "    print(\"Null hypothesis that the data follows exponential distribution is accepted\")\n",
    "else:\n",
    "    print(\"Null hypothesis is rejected\")"
   ]
  },
  {
   "cell_type": "code",
   "execution_count": 13,
   "metadata": {},
   "outputs": [],
   "source": [
    "df1 = pd.read_csv (r\"C:\\Users\\Mridul Ahuja\\Downloads\\death .csv\")\n",
    "df2 = pd.read_csv (r\"C:\\Users\\Mridul Ahuja\\Downloads\\incd.csv\")"
   ]
  },
  {
   "cell_type": "code",
   "execution_count": 15,
   "metadata": {},
   "outputs": [],
   "source": [
    "#Data-cleaning and Pre-processing \n",
    "df1 = df1.apply(pd.to_numeric, errors='coerce')\n",
    "df1.dropna(subset = [\"Age-Adjusted Death Rate\"], inplace=True)"
   ]
  },
  {
   "cell_type": "code",
   "execution_count": 16,
   "metadata": {},
   "outputs": [],
   "source": [
    "df2 = df2.apply(pd.to_numeric, errors='coerce')\n",
    "df2.dropna(subset = [\"Age-Adjusted Incidence Rate\"], inplace=True)"
   ]
  },
  {
   "cell_type": "code",
   "execution_count": 17,
   "metadata": {},
   "outputs": [],
   "source": [
    "df2 = df2.rename(columns={' FIPS': 'FIPS', 'Age-Adjusted Incidence Rate': 'Age-Adjusted Incidence Rate'})"
   ]
  },
  {
   "cell_type": "code",
   "execution_count": 63,
   "metadata": {},
   "outputs": [],
   "source": [
    "#For Problem 4 - We perform linear regression\n",
    "x = df2['Age-Adjusted Incidence Rate'].to_numpy().reshape(-1, 1)\n",
    "y = df2['FIPS'].to_numpy()\n",
    "regr = linear_model.LinearRegression()\n",
    "regr.fit(x, y)\n",
    "y_pred = regr.predict(x)"
   ]
  },
  {
   "cell_type": "code",
   "execution_count": 64,
   "metadata": {},
   "outputs": [
    {
     "name": "stdout",
     "output_type": "stream",
     "text": [
      "The point estimates found are as follows - Intercept: 37211.82939955863 Slope Coefficient: -93.16025228977638\n"
     ]
    }
   ],
   "source": [
    "#for Problem 4 - part a\n",
    "print(\"The point estimates found are as follows - Intercept:\", regr.intercept_, \"Slope Coefficient:\", regr.coef_[0])"
   ]
  },
  {
   "cell_type": "code",
   "execution_count": 65,
   "metadata": {},
   "outputs": [
    {
     "data": {
      "text/plain": [
       "<matplotlib.axes._subplots.AxesSubplot at 0x1a5535d3ec8>"
      ]
     },
     "execution_count": 65,
     "metadata": {},
     "output_type": "execute_result"
    },
    {
     "data": {
      "image/png": "[encoded data removed]",
      "text/plain": [
       "<Figure size 432x288 with 1 Axes>"
      ]
     },
     "metadata": {
      "needs_background": "light"
     },
     "output_type": "display_data"
    }
   ],
   "source": [
    "#for Problem 4 - part b\n",
    "import seaborn as sns\n",
    "\n",
    "sns.regplot(x=df2['Age-Adjusted Incidence Rate'], y=df2['FIPS'], scatter_kws={\"s\": 10}, ci=None)"
   ]
  },
  {
   "cell_type": "code",
   "execution_count": 66,
   "metadata": {},
   "outputs": [
    {
     "data": {
      "text/plain": [
       "Text(0, 0.5, 'FIPS')"
      ]
     },
     "execution_count": 66,
     "metadata": {},
     "output_type": "execute_result"
    },
    {
     "data": {
      "image/png": "[encoded data removed]",
      "text/plain": [
       "<Figure size 432x288 with 1 Axes>"
      ]
     },
     "metadata": {
      "needs_background": "light"
     },
     "output_type": "display_data"
    }
   ],
   "source": [
    "plt.plot(x, y)\n",
    "plt.plot(x, y_pred)\n",
    "plt.xlabel(\"Age-Adjusted Incidence Rate\")\n",
    "plt.ylabel(\"FIPS\")"
   ]
  },
  {
   "cell_type": "code",
   "execution_count": 67,
   "metadata": {},
   "outputs": [
    {
     "name": "stdout",
     "output_type": "stream",
     "text": [
      "650381705348.7153\n",
      "Estimate for sigma^2 for the Incidence and FIPS rate Data set:  246543481.93658656\n"
     ]
    }
   ],
   "source": [
    "#For Problem 4 - part c\n",
    "RSS = sum((y-y_pred)**2)\n",
    "print(RSS)\n",
    "print(\"Estimate for sigma^2 for the Incidence and FIPS rate Data set: \", RSS/(len(y)-2))"
   ]
  },
  {
   "cell_type": "code",
   "execution_count": 68,
   "metadata": {},
   "outputs": [
    {
     "name": "stdout",
     "output_type": "stream",
     "text": [
      "Total Sum of Squares=  657778751683.9987\n",
      "R^2 for Incidence and FIPS data =  0.011245492981258431\n",
      "Adjusted R^2 for Incidence and FIPS data =  0.010870680810288524\n"
     ]
    }
   ],
   "source": [
    "#For Problem 4 - part d\n",
    "SS_Total = sum((y-np.mean(y))**2) \n",
    "print(\"Total Sum of Squares= \", SS_Total)\n",
    "r_squared = 1 - (float(RSS))/SS_Total\n",
    "adjusted_r_squared = 1 - (1-r_squared)*(len(y)-1)/(len(y)-x.shape[1]-1)\n",
    "print(\"R^2 for Incidence and FIPS data = \", r_squared)\n",
    "print(\"Adjusted R^2 for Incidence and FIPS data = \", adjusted_r_squared)"
   ]
  },
  {
   "cell_type": "code",
   "execution_count": 69,
   "metadata": {},
   "outputs": [
    {
     "name": "stdout",
     "output_type": "stream",
     "text": [
      "Value of the Test Statistic for testing slope coefficient:  -5.477500261337884\n",
      "The interval formed by the critical values at alpha = 0.05:  (-1.9608636591179458, 1.9608636591179458) the Null Hypothesis is rejected\n"
     ]
    }
   ],
   "source": [
    "#For Problem 4- part e (Hypothesis testing for the slope coefficient)\n",
    "S_xx = sum((x - x.mean())**2)\n",
    "test_stat1 = regr.coef_[0]*((len(y) - 2)*(S_xx)/RSS)**0.5\n",
    "print(\"Value of the Test Statistic for testing slope coefficient: \", test_stat1[0])\n",
    "interval = stats.t.interval(alpha = 0.95, df = len(y)-2)\n",
    "if(test_stat1<interval[0] or test_stat1>interval[1]):\n",
    "    print(\"The interval formed by the critical values at alpha = 0.05: \", (interval[0], interval[1]), \"the Null Hypothesis is rejected\")\n",
    "else: \n",
    "    print(\"The Null Hypothesis is not rejected\")"
   ]
  },
  {
   "cell_type": "code",
   "execution_count": 70,
   "metadata": {},
   "outputs": [
    {
     "name": "stdout",
     "output_type": "stream",
     "text": [
      "Value of the Test Statistic for testing intercept coefficient:  30.31072075396085\n",
      "The interval formed by the critical values at alpha = 0.05:  (-1.9608636591179458, 1.9608636591179458) the Null Hypothesis is rejected\n"
     ]
    }
   ],
   "source": [
    "#For Problem 4 - part f (Hypothesis testing for the intercept)\n",
    "squaresums = sum(x**2)\n",
    "test_stat0 = regr.intercept_*((len(y)*len(y-2)*S_xx/(squaresums*RSS))**0.5)\n",
    "print(\"Value of the Test Statistic for testing intercept coefficient: \", test_stat0[0])\n",
    "interval = stats.t.interval(alpha = 0.95, df = len(y)-2)\n",
    "if(test_stat1<interval[0] or test_stat1>interval[1]):\n",
    "    print(\"The interval formed by the critical values at alpha = 0.05: \", (interval[0], interval[1]), \"the Null Hypothesis is rejected\")\n",
    "else: \n",
    "    print(\"The Null Hypothesis is not rejected\")"
   ]
  },
  {
   "cell_type": "code",
   "execution_count": 71,
   "metadata": {},
   "outputs": [],
   "source": [
    "#ADDITIONAL TESTING: Problem 4\n",
    "df = pd.merge(df1, df2, how=\"inner\", on=[\"FIPS\"])"
   ]
  },
  {
   "cell_type": "code",
   "execution_count": 72,
   "metadata": {},
   "outputs": [
    {
     "data": {
      "text/html": [
       "<div>\n",
       "<style scoped>\n",
       "    .dataframe tbody tr th:only-of-type {\n",
       "        vertical-align: middle;\n",
       "    }\n",
       "\n",
       "    .dataframe tbody tr th {\n",
       "        vertical-align: top;\n",
       "    }\n",
       "\n",
       "    .dataframe thead th {\n",
       "        text-align: right;\n",
       "    }\n",
       "</style>\n",
       "<table border=\"1\" class=\"dataframe\">\n",
       "  <thead>\n",
       "    <tr style=\"text-align: right;\">\n",
       "      <th></th>\n",
       "      <th>Age-Adjusted Death Rate</th>\n",
       "      <th>Age-Adjusted Incidence Rate</th>\n",
       "    </tr>\n",
       "  </thead>\n",
       "  <tbody>\n",
       "    <tr>\n",
       "      <th>0</th>\n",
       "      <td>46.0</td>\n",
       "      <td>62.4</td>\n",
       "    </tr>\n",
       "    <tr>\n",
       "      <th>1</th>\n",
       "      <td>59.3</td>\n",
       "      <td>74.9</td>\n",
       "    </tr>\n",
       "    <tr>\n",
       "      <th>2</th>\n",
       "      <td>48.0</td>\n",
       "      <td>66.9</td>\n",
       "    </tr>\n",
       "    <tr>\n",
       "      <th>3</th>\n",
       "      <td>61.3</td>\n",
       "      <td>74.6</td>\n",
       "    </tr>\n",
       "    <tr>\n",
       "      <th>4</th>\n",
       "      <td>67.8</td>\n",
       "      <td>86.4</td>\n",
       "    </tr>\n",
       "    <tr>\n",
       "      <th>...</th>\n",
       "      <td>...</td>\n",
       "      <td>...</td>\n",
       "    </tr>\n",
       "    <tr>\n",
       "      <th>2561</th>\n",
       "      <td>28.4</td>\n",
       "      <td>39.9</td>\n",
       "    </tr>\n",
       "    <tr>\n",
       "      <th>2562</th>\n",
       "      <td>29.1</td>\n",
       "      <td>23.7</td>\n",
       "    </tr>\n",
       "    <tr>\n",
       "      <th>2563</th>\n",
       "      <td>22.1</td>\n",
       "      <td>31.7</td>\n",
       "    </tr>\n",
       "    <tr>\n",
       "      <th>2564</th>\n",
       "      <td>38.2</td>\n",
       "      <td>50.0</td>\n",
       "    </tr>\n",
       "    <tr>\n",
       "      <th>2565</th>\n",
       "      <td>43.5</td>\n",
       "      <td>44.9</td>\n",
       "    </tr>\n",
       "  </tbody>\n",
       "</table>\n",
       "<p>2566 rows × 2 columns</p>\n",
       "</div>"
      ],
      "text/plain": [
       "      Age-Adjusted Death Rate  Age-Adjusted Incidence Rate\n",
       "0                        46.0                         62.4\n",
       "1                        59.3                         74.9\n",
       "2                        48.0                         66.9\n",
       "3                        61.3                         74.6\n",
       "4                        67.8                         86.4\n",
       "...                       ...                          ...\n",
       "2561                     28.4                         39.9\n",
       "2562                     29.1                         23.7\n",
       "2563                     22.1                         31.7\n",
       "2564                     38.2                         50.0\n",
       "2565                     43.5                         44.9\n",
       "\n",
       "[2566 rows x 2 columns]"
      ]
     },
     "execution_count": 72,
     "metadata": {},
     "output_type": "execute_result"
    }
   ],
   "source": [
    "df.drop(columns = \"FIPS\")"
   ]
  },
  {
   "cell_type": "code",
   "execution_count": 73,
   "metadata": {},
   "outputs": [],
   "source": [
    "x = df['Age-Adjusted Incidence Rate'].to_numpy().reshape(-1, 1)\n",
    "y = df['Age-Adjusted Death Rate'].to_numpy()\n",
    "regr = linear_model.LinearRegression()\n",
    "regr.fit(x, y)\n",
    "y_pred = regr.predict(x)"
   ]
  },
  {
   "cell_type": "code",
   "execution_count": 74,
   "metadata": {},
   "outputs": [
    {
     "name": "stdout",
     "output_type": "stream",
     "text": [
      "The point estimates found are as follows - Intercept: 4.788864452589394 Slope Coefficient: 0.6948087365901287\n"
     ]
    }
   ],
   "source": [
    "#ADDITIONAL: Problem 4 - part a\n",
    "print(\"The point estimates found are as follows - Intercept:\", regr.intercept_, \"Slope Coefficient:\", regr.coef_[0])"
   ]
  },
  {
   "cell_type": "code",
   "execution_count": 75,
   "metadata": {},
   "outputs": [
    {
     "data": {
      "text/plain": [
       "<matplotlib.axes._subplots.AxesSubplot at 0x1a553751848>"
      ]
     },
     "execution_count": 75,
     "metadata": {},
     "output_type": "execute_result"
    },
    {
     "data": {
      "image/png": "[encoded data removed]",
      "text/plain": [
       "<Figure size 432x288 with 1 Axes>"
      ]
     },
     "metadata": {
      "needs_background": "light"
     },
     "output_type": "display_data"
    }
   ],
   "source": [
    "#ADDITIONAL: Problem 4 - part b\n",
    "import seaborn as sns\n",
    "\n",
    "sns.regplot(x=df['Age-Adjusted Incidence Rate'], y=df['Age-Adjusted Death Rate'], scatter_kws={\"s\": 10}, ci=None)"
   ]
  },
  {
   "cell_type": "code",
   "execution_count": 76,
   "metadata": {},
   "outputs": [
    {
     "name": "stdout",
     "output_type": "stream",
     "text": [
      "127450.6097402852\n",
      "Estimate for sigma^2 for the Incidence rate vs Death Rate Data set:  49.70772610775554\n"
     ]
    }
   ],
   "source": [
    "#ADDITIONAL: Problem 4 - part c\n",
    "RSS = sum((y-y_pred)**2)\n",
    "print(RSS)\n",
    "print(\"Estimate for sigma^2 for the Incidence rate vs Death Rate Data set: \", RSS/(len(y)-2))"
   ]
  },
  {
   "cell_type": "code",
   "execution_count": 80,
   "metadata": {},
   "outputs": [
    {
     "name": "stdout",
     "output_type": "stream",
     "text": [
      "Total Sum of Squares=  519767.2194855815\n",
      "R^2 for Incidence rate and Death Rate merged data =  0.7547929054348131\n",
      "Adjusted R^2 for Incidence rate and Death Rate merged data =  0.754697270842549\n"
     ]
    }
   ],
   "source": [
    "#ADDITIONAL: Problem 4 - part d\n",
    "SS_Total = sum((y-np.mean(y))**2) \n",
    "print(\"Total Sum of Squares= \", SS_Total)\n",
    "r_squared = 1 - (float(RSS))/SS_Total\n",
    "adjusted_r_squared = 1 - (1-r_squared)*(len(y)-1)/(len(y)-x.shape[1]-1)\n",
    "print(\"R^2 for Incidence rate and Death Rate merged data = \", r_squared)\n",
    "print(\"Adjusted R^2 for Incidence rate and Death Rate merged data = \", adjusted_r_squared)"
   ]
  },
  {
   "cell_type": "code",
   "execution_count": 78,
   "metadata": {},
   "outputs": [
    {
     "name": "stdout",
     "output_type": "stream",
     "text": [
      "Value of the Test Statistic for testing slope coefficient:  88.83956009829706\n",
      "The interval formed by the critical values at alpha = 0.05:  (-1.9608896368168331, 1.9608896368168331) the Null Hypothesis is rejected\n"
     ]
    }
   ],
   "source": [
    "#ADDITIONAL Problem 4- part e (Hypothesis testing for the slope coefficient)\n",
    "S_xx = sum((x - x.mean())**2)\n",
    "test_stat1 = regr.coef_[0]*((len(y) - 2)*(S_xx)/RSS)**0.5\n",
    "print(\"Value of the Test Statistic for testing slope coefficient: \", test_stat1[0])\n",
    "interval = stats.t.interval(alpha = 0.95, df = len(y)-2)\n",
    "if(test_stat1<interval[0] or test_stat1>interval[1]):\n",
    "    print(\"The interval formed by the critical values at alpha = 0.05: \", (interval[0], interval[1]), \"the Null Hypothesis is rejected\")\n",
    "else: \n",
    "    print(\"The Null Hypothesis is not rejected\")"
   ]
  },
  {
   "cell_type": "code",
   "execution_count": 79,
   "metadata": {},
   "outputs": [
    {
     "name": "stdout",
     "output_type": "stream",
     "text": [
      "Value of the Test Statistic for testing intercept coefficient:  8.456922055409798\n",
      "The interval formed by the critical values at alpha = 0.05:  (-1.9608896368168331, 1.9608896368168331) the Null Hypothesis is rejected\n"
     ]
    }
   ],
   "source": [
    "#ADDITIONAL Problem 4 - part f (Hypothesis testing for the intercept)\n",
    "squaresums = sum(x**2)\n",
    "test_stat0 = regr.intercept_*((len(y)*len(y-2)*S_xx/(squaresums*RSS))**0.5)\n",
    "print(\"Value of the Test Statistic for testing intercept coefficient: \", test_stat0[0])\n",
    "interval = stats.t.interval(alpha = 0.95, df = len(y)-2)\n",
    "if(test_stat1<interval[0] or test_stat1>interval[1]):\n",
    "    print(\"The interval formed by the critical values at alpha = 0.05: \", (interval[0], interval[1]), \"the Null Hypothesis is rejected\")\n",
    "else: \n",
    "    print(\"The Null Hypothesis is not rejected\")"
   ]
  }
 ],
 "metadata": {
  "kernelspec": {
   "display_name": "Python 3",
   "language": "python",
   "name": "python3"
  },
  "language_info": {
   "codemirror_mode": {
    "name": "ipython",
    "version": 3
   },
   "file_extension": ".py",
   "mimetype": "text/x-python",
   "name": "python",
   "nbconvert_exporter": "python",
   "pygments_lexer": "ipython3",
   "version": "3.8.8"
  }
 },
 "nbformat": 4,
 "nbformat_minor": 4
}
